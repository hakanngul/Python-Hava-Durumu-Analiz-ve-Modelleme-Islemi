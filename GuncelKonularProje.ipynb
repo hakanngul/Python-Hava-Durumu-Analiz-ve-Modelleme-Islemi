{
  "nbformat": 4,
  "nbformat_minor": 0,
  "metadata": {
    "colab": {
      "name": "GuncelKonularProje.ipynb",
      "provenance": [],
      "collapsed_sections": []
    },
    "kernelspec": {
      "name": "python3",
      "display_name": "Python 3"
    }
  },
  "cells": [
    {
      "cell_type": "code",
      "metadata": {
        "id": "AiVk60b3iZmj",
        "colab_type": "code",
        "outputId": "b8e58641-f7bf-42da-ec19-b9eec9f64454",
        "colab": {
          "base_uri": "https://localhost:8080/",
          "height": 121
        }
      },
      "source": [
        "from google.colab import drive\n",
        "drive.mount('/content/drive')"
      ],
      "execution_count": 1,
      "outputs": [
        {
          "output_type": "stream",
          "text": [
            "Go to this URL in a browser: https://accounts.google.com/o/oauth2/auth?client_id=947318989803-6bn6qk8qdgf4n4g3pfee6491hc0brc4i.apps.googleusercontent.com&redirect_uri=urn%3aietf%3awg%3aoauth%3a2.0%3aoob&response_type=code&scope=email%20https%3a%2f%2fwww.googleapis.com%2fauth%2fdocs.test%20https%3a%2f%2fwww.googleapis.com%2fauth%2fdrive%20https%3a%2f%2fwww.googleapis.com%2fauth%2fdrive.photos.readonly%20https%3a%2f%2fwww.googleapis.com%2fauth%2fpeopleapi.readonly\n",
            "\n",
            "Enter your authorization code:\n",
            "··········\n",
            "Mounted at /content/drive\n"
          ],
          "name": "stdout"
        }
      ]
    },
    {
      "cell_type": "code",
      "metadata": {
        "id": "JDev0f0lij-z",
        "colab_type": "code",
        "outputId": "ba382fa9-54a7-4683-d7dc-da29f95d049e",
        "colab": {
          "base_uri": "https://localhost:8080/",
          "height": 70
        }
      },
      "source": [
        "#Kütüphanelerin Yüklenmesi\n",
        "import joblib\n",
        "import math\n",
        "import matplotlib.pyplot as plt\n",
        "import seaborn as sns\n",
        "import datetime\n",
        "# from sklearn.preprocessing import Imputer\n",
        "import seaborn as seabornInstance \n",
        "from sklearn.model_selection import train_test_split \n",
        "from sklearn.linear_model import LinearRegression\n",
        "from sklearn import metrics\n",
        "import requests\n",
        "import pandas as pd\n",
        "import numpy as np"
      ],
      "execution_count": 2,
      "outputs": [
        {
          "output_type": "stream",
          "text": [
            "/usr/local/lib/python3.6/dist-packages/statsmodels/tools/_testing.py:19: FutureWarning: pandas.util.testing is deprecated. Use the functions in the public API at pandas.testing instead.\n",
            "  import pandas.util.testing as tm\n"
          ],
          "name": "stderr"
        }
      ]
    },
    {
      "cell_type": "code",
      "metadata": {
        "id": "9ExczHu6jNLb",
        "colab_type": "code",
        "colab": {}
      },
      "source": [
        "veri_universite = pd.read_excel(\"/content/drive/My Drive/GuncelKonular/veriler/universite.xlsx\")\n",
        "veri_bursa = pd.read_excel(\"/content/drive/My Drive/GuncelKonular/veriler/bursa.xlsx\")\n",
        "veri_beyazid = pd.read_excel(\"/content/drive/My Drive/GuncelKonular/veriler/beyazid.xlsx\")\n",
        "veri_inegol = pd.read_excel(\"/content/drive/My Drive/GuncelKonular/veriler/inegol.xlsx\")\n",
        "veri_kestel = pd.read_excel(\"/content/drive/My Drive/GuncelKonular/veriler/kestel.xlsx\")\n",
        "veri_kulturpark = pd.read_excel(\"/content/drive/My Drive/GuncelKonular/veriler/kulturpark.xlsx\")"
      ],
      "execution_count": 0,
      "outputs": []
    },
    {
      "cell_type": "code",
      "metadata": {
        "id": "5vhE0JDSqtsE",
        "colab_type": "code",
        "colab": {}
      },
      "source": [
        ""
      ],
      "execution_count": 0,
      "outputs": []
    },
    {
      "cell_type": "code",
      "metadata": {
        "id": "w4zHDDMDja-A",
        "colab_type": "code",
        "colab": {}
      },
      "source": [
        "def calculateSO2(so2):\n",
        "    so2veri=0\n",
        "    if (so2>=0.0 and so2<=4.0):\n",
        "         so2veri= 1.0\n",
        "    if (so2>4.0 and so2<=8.0):\n",
        "         so2veri= 2.0\n",
        "    if (so2>8.0 and so2<=38.0):\n",
        "         so2veri= 3.0\n",
        "    if (so2>38.0 and so2<=80.0):\n",
        "         so2veri= 4.0\n",
        "    if (so2>80.0 and so2<=160.0):\n",
        "         so2veri= 5.0\n",
        "    if (so2>160.0):\n",
        "         so2veri= 6.0\n",
        "    \n",
        "    return so2veri"
      ],
      "execution_count": 0,
      "outputs": []
    },
    {
      "cell_type": "code",
      "metadata": {
        "id": "thZW8O9UjflS",
        "colab_type": "code",
        "colab": {}
      },
      "source": [
        "def calculateNo2(no2):\n",
        "    no2veri=0\n",
        "    if (no2>=0 and so2<=40):\n",
        "         no2veri= 1.0\n",
        "    if (no2>40 and no2<=80):\n",
        "         no2veri= 2.0\n",
        "    if (no2>80 and no2<=180):\n",
        "         no2veri= 3.0\n",
        "    if (no2>180 and no2<=280):\n",
        "         no2veri= 4.0\n",
        "    if (no2>280 and no2<=400):\n",
        "         no2veri= 5.0\n",
        "    if (no2>400):\n",
        "         no2veri= 6.0\n",
        "    return no2veri"
      ],
      "execution_count": 0,
      "outputs": []
    },
    {
      "cell_type": "code",
      "metadata": {
        "id": "uiG2lAmcjlWA",
        "colab_type": "code",
        "colab": {}
      },
      "source": [
        "def calculatePM10(pm10):\n",
        "    pm10veri=0\n",
        "    if (pm10>=0 and pm10<=50):\n",
        "         pm10veri= 1.0\n",
        "    if (pm10>=51 and pm10<=100):\n",
        "         pm10veri= 2.0\n",
        "    if (pm10>=101 and pm10<=250):\n",
        "         pm10veri= 3.0\n",
        "    if (pm10>=251 and pm10<=350):\n",
        "         pm10veri= 4.0\n",
        "    if (pm10>=351 and pm10<=430):\n",
        "         pm10veri= 5.0\n",
        "    if (pm10>=431):\n",
        "         pm10veri= 6.0\n",
        "    \n",
        "    return pm10veri "
      ],
      "execution_count": 0,
      "outputs": []
    },
    {
      "cell_type": "code",
      "metadata": {
        "id": "wZdB52cFjn4H",
        "colab_type": "code",
        "colab": {}
      },
      "source": [
        "def calculatePM25(pm25):\n",
        "    pm25veri=0\n",
        "    if (pm25>=0 and pm25<=30):\n",
        "         pm25veri= 1.0\n",
        "    if (pm25>=31 and pm25<=60):\n",
        "         pm25veri= 2.0\n",
        "    if (pm25>=61 and pm25<=90):\n",
        "         pm25veri= 3.0\n",
        "    if (pm25>=91 and pm25<=120):\n",
        "         pm25veri= 4.0\n",
        "    if (pm25>=121 and pm25<=250):\n",
        "         pm25veri= 5.0\n",
        "    if (pm25>=251):\n",
        "         pm25veri= 6.0\n",
        "    \n",
        "    return pm25veri"
      ],
      "execution_count": 0,
      "outputs": []
    },
    {
      "cell_type": "code",
      "metadata": {
        "id": "7q3H0d0Pjpqz",
        "colab_type": "code",
        "colab": {}
      },
      "source": [
        "def calculateCO(CO):\n",
        "    coveri=0\n",
        "    if (CO>=0 and CO<=5500):\n",
        "         coveri= 1.0\n",
        "    if (CO>=5501 and CO<=10000):\n",
        "         coveri= 2.0\n",
        "    if (CO>=10001 and CO<=16000):\n",
        "         coveri= 3.0\n",
        "    if (CO>=16001 and CO<=24000):\n",
        "         coveri= 4.0\n",
        "    if (CO>=24001 and CO<=32000):\n",
        "         coveri= 5.0\n",
        "    if (CO>=32001 and CO<=40000):\n",
        "         coveri= 6.0\n",
        "    return coveri "
      ],
      "execution_count": 0,
      "outputs": []
    },
    {
      "cell_type": "code",
      "metadata": {
        "id": "WstQ_TgUjrqe",
        "colab_type": "code",
        "colab": {}
      },
      "source": [
        "def calculateO3(O3):\n",
        "    o3veri=0\n",
        "    if (O3>=0 and O3<=50):\n",
        "         o3veri= 1.0\n",
        "    if (O3>50 and O3<=100):\n",
        "         o3veri= 2.0\n",
        "    if (O3>=100 and O3<=168):\n",
        "         o3veri= 3.0\n",
        "    if (O3>168 and O3<=208):\n",
        "         o3veri= 4.0\n",
        "    if (O3>208 and O3<=748):\n",
        "         o3veri= 5.0\n",
        "    if (O3>748):\n",
        "         o3veri= 6.0\n",
        "    return o3veri"
      ],
      "execution_count": 0,
      "outputs": []
    },
    {
      "cell_type": "code",
      "metadata": {
        "id": "8wMbDXU3xQIX",
        "colab_type": "code",
        "colab": {}
      },
      "source": [
        "def pm10Hesapla(df):\n",
        "  for pm10 in df[\"PM25\"]:\n",
        "    df[\"PM10\"] = df[\"PM25\"] / 0.75\n",
        "  return df\n",
        "\n",
        "def pm25Hesapla(df):\n",
        "  for pm25 in df[\"PM10\"]:\n",
        "    df[\"PM25\"] = df[\"PM10\"] * 0.75\n",
        "  return df\n",
        "\n",
        "def dropNOandDate(df):\n",
        "  df = df.drop([\"Tarih\",\"NO\"], axis=1)\n",
        "  return df\n",
        "\n",
        "def dropDate(df):\n",
        "  df = df.drop([\"Tarih\"], axis=1)\n",
        "  return df"
      ],
      "execution_count": 0,
      "outputs": []
    },
    {
      "cell_type": "code",
      "metadata": {
        "id": "lfpBxNJzv4P7",
        "colab_type": "code",
        "colab": {}
      },
      "source": [
        "Bolgeler = [\"universite\",\"kulturpark\",\"kestel\",\"inegol\",\"bursa\",\"beyazid\"]\n",
        "bolge_pd_listeleri = [veri_universite,veri_kulturpark,veri_kestel,veri_inegol,veri_bursa,veri_beyazid]"
      ],
      "execution_count": 0,
      "outputs": []
    },
    {
      "cell_type": "code",
      "metadata": {
        "id": "czoMkfEn4FHp",
        "colab_type": "code",
        "colab": {}
      },
      "source": [
        "# # Üniversite\n",
        "# df_universite = bolge_pd_listeleri[0]\n",
        "# df_universite = dropNOandDate(df_universite)\n",
        "# # Kültürpark\n",
        "# df_kulturpark = bolge_pd_listeleri[1]\n",
        "# df_kulturpark = dropNOandDate(df_kulturpark)\n",
        "# # Kestel\n",
        "# df_kestel = bolge_pd_listeleri[2]\n",
        "# df_kestel = dropNOandDate(df_kestel)\n",
        "# # inegol\n",
        "# df_inegol = bolge_pd_listeleri[3]\n",
        "# df_inegol = dropNOandDate(df_inegol)\n",
        "# # bursa\n",
        "# df_bursa = bolge_pd_listeleri[4]\n",
        "# df_bursa = dropDate(df_bursa)\n",
        "# # bursa\n",
        "# df_beyazid = bolge_pd_listeleri[5]\n",
        "# df_beyazid = dropNOandDate(df_beyazid)\n"
      ],
      "execution_count": 0,
      "outputs": []
    },
    {
      "cell_type": "code",
      "metadata": {
        "id": "n0an-JVbYHjC",
        "colab_type": "code",
        "colab": {}
      },
      "source": [
        "# df_beyazid.to_excel(\"/content/drive/My Drive/GuncelKonular/guncel/beyazid.xlsx\")\n",
        "# df_bursa.to_excel(\"/content/drive/My Drive/GuncelKonular/guncel/bursa.xlsx\")\n",
        "# df_inegol.to_excel(\"/content/drive/My Drive/GuncelKonular/guncel/inegol.xlsx\")\n",
        "# df_kestel.to_excel(\"/content/drive/My Drive/GuncelKonular/guncel/kestel.xlsx\")\n",
        "# df_kulturpark.to_excel(\"/content/drive/My Drive/GuncelKonular/guncel/kulturpark.xlsx\")\n",
        "# df_universite.to_excel(\"/content/drive/My Drive/GuncelKonular/guncel/universite.xlsx\")"
      ],
      "execution_count": 0,
      "outputs": []
    },
    {
      "cell_type": "code",
      "metadata": {
        "id": "3t2Dsi1e4FPF",
        "colab_type": "code",
        "colab": {}
      },
      "source": [
        "# df_universite = pm10Hesapla(df_universite)\n",
        "# df_kestel = pm25Hesapla(df_kestel)\n",
        "# df_inegol = pm25Hesapla(df_inegol)\n",
        "# df_beyazid = pm25Hesapla(df_beyazid)\n"
      ],
      "execution_count": 0,
      "outputs": []
    },
    {
      "cell_type": "code",
      "metadata": {
        "id": "IHuSj2hl4FRv",
        "colab_type": "code",
        "colab": {}
      },
      "source": [
        "# df_universite[\"CO\"] = df_beyazid[\"CO\"]\n",
        "# df_kulturpark[\"CO\"] = df_beyazid[\"CO\"]\n",
        "# df_kulturpark[\"PM25\"] = df_beyazid[\"PM25\"]\n",
        "# df_kulturpark[\"PM10\"] = df_beyazid[\"PM10\"]\n",
        "# df_kestel[\"CO\"] = df_beyazid[\"CO\"]\n",
        "# df_inegol[\"CO\"] = df_kestel[\"CO\"]\n",
        "# df_inegol[\"O3\"] = df_kestel[\"O3\"]\n",
        "# df_bursa[\"CO\"] = df_kulturpark[\"CO\"]\n",
        "# df_bursa[\"NO2\"] = df_kulturpark[\"NO2\"]\n",
        "# df_beyazid[\"O3\"] = df_kulturpark[\"O3\"]"
      ],
      "execution_count": 0,
      "outputs": []
    },
    {
      "cell_type": "code",
      "metadata": {
        "id": "jWSlB_YK4FUK",
        "colab_type": "code",
        "colab": {}
      },
      "source": [
        "# data_beyazid = pd.DataFrame()"
      ],
      "execution_count": 0,
      "outputs": []
    },
    {
      "cell_type": "code",
      "metadata": {
        "id": "Ad-7qDxFa0HC",
        "colab_type": "code",
        "colab": {}
      },
      "source": [
        "def hesapla(df):\n",
        "  data = pd.DataFrame()\n",
        "  for so2 in df[\"SO2\"]:\n",
        "      data[\"SO2\"] = df[\"SO2\"].apply(calculateSO2)\n",
        "  for no2 in df[\"NO2\"]:\n",
        "      data[\"NO2\"] = df[\"NO2\"].apply(calculateNo2)\n",
        "  for o3 in df[\"O3\"]:\n",
        "      data[\"O3\"] = df[\"O3\"].apply(calculateO3)\n",
        "  for pm25 in df[\"PM25\"]:\n",
        "      data[\"PM25\"] = df[\"PM25\"].apply(calculatePM25)\n",
        "  for pm10 in df[\"PM10\"]:\n",
        "      data[\"PM10\"] = df[\"PM10\"].apply(calculatePM10)\n",
        "  for co in df[\"CO\"]:\n",
        "      data[\"CO\"] = df[\"CO\"].apply(calculateCO)\n",
        "  return data"
      ],
      "execution_count": 0,
      "outputs": []
    },
    {
      "cell_type": "code",
      "metadata": {
        "id": "OB8FJhQJZcmk",
        "colab_type": "code",
        "colab": {}
      },
      "source": [
        "data_beyazid = hesapla(df_beyazid)\n",
        "data_beyazid.head()"
      ],
      "execution_count": 0,
      "outputs": []
    },
    {
      "cell_type": "code",
      "metadata": {
        "id": "eupa4nSHaJfr",
        "colab_type": "code",
        "colab": {}
      },
      "source": [
        "data_universite = hesapla(df_universite)\n",
        "data_universite.head()"
      ],
      "execution_count": 0,
      "outputs": []
    },
    {
      "cell_type": "code",
      "metadata": {
        "id": "vlAxf3Q2ZvUV",
        "colab_type": "code",
        "colab": {}
      },
      "source": [
        "data_kulturpark = hesapla(df_kulturpark)\n",
        "data_kulturpark.head()"
      ],
      "execution_count": 0,
      "outputs": []
    },
    {
      "cell_type": "code",
      "metadata": {
        "id": "qslmSc_lcy0H",
        "colab_type": "code",
        "colab": {}
      },
      "source": [
        "data_kestel = hesapla(df_kestel)\n",
        "data_kestel.head()"
      ],
      "execution_count": 0,
      "outputs": []
    },
    {
      "cell_type": "code",
      "metadata": {
        "id": "5RXEwZY-c-fR",
        "colab_type": "code",
        "colab": {}
      },
      "source": [
        "data_inegol = hesapla(df_inegol)\n",
        "data_inegol.head()"
      ],
      "execution_count": 0,
      "outputs": []
    },
    {
      "cell_type": "code",
      "metadata": {
        "id": "p2vpxwurdFd8",
        "colab_type": "code",
        "colab": {}
      },
      "source": [
        "data_bursa = hesapla(df_bursa)\n",
        "data_bursa.head()"
      ],
      "execution_count": 0,
      "outputs": []
    },
    {
      "cell_type": "code",
      "metadata": {
        "id": "aANCLrNkdJnB",
        "colab_type": "code",
        "colab": {}
      },
      "source": [
        "# data_beyazid.to_excel(\"/content/drive/My Drive/GuncelKonular/data_veri/data_beyazid.xlsx\")\n",
        "# data_bursa.to_excel(\"/content/drive/My Drive/GuncelKonular/data_veri/data_bursa.xlsx\")\n",
        "# data_inegol.to_excel(\"/content/drive/My Drive/GuncelKonular/data_veri/data_inegol.xlsx\")\n",
        "# data_kestel.to_excel(\"/content/drive/My Drive/GuncelKonular/data_veri/data_kestel.xlsx\")\n",
        "# data_kulturpark.to_excel(\"/content/drive/My Drive/GuncelKonular/data_veri/data_kulturpark.xlsx\")\n",
        "# data_universite.to_excel(\"/content/drive/My Drive/GuncelKonular/data_veri/data_universite.xlsx\")"
      ],
      "execution_count": 0,
      "outputs": []
    },
    {
      "cell_type": "code",
      "metadata": {
        "id": "qpmUq4_EHeW3",
        "colab_type": "code",
        "colab": {}
      },
      "source": [
        "data_beyazid.head(10)\n",
        "yeni_beyazid = pd.DataFrame()"
      ],
      "execution_count": 0,
      "outputs": []
    },
    {
      "cell_type": "code",
      "metadata": {
        "id": "HIrSrEEpd_HV",
        "colab_type": "code",
        "colab": {}
      },
      "source": [
        "# data_beyazid[\"toplam\"] = data_beyazid.sum(axis=1)\n",
        "data_bursa[\"toplam\"] = data_bursa.sum(axis=1)\n",
        "data_inegol[\"toplam\"] = data_inegol.sum(axis=1)\n",
        "data_kestel[\"toplam\"] = data_kestel.sum(axis=1)\n",
        "data_kulturpark[\"toplam\"] = data_kulturpark.sum(axis=1)\n",
        "data_universite[\"toplam\"] = data_universite.sum(axis=1)"
      ],
      "execution_count": 0,
      "outputs": []
    },
    {
      "cell_type": "code",
      "metadata": {
        "id": "QUcv9xduepH_",
        "colab_type": "code",
        "outputId": "504359ad-d757-4ee8-88aa-b6cbc39439f8",
        "colab": {
          "base_uri": "https://localhost:8080/",
          "height": 195
        }
      },
      "source": [
        "data_universite.head()"
      ],
      "execution_count": 0,
      "outputs": [
        {
          "output_type": "execute_result",
          "data": {
            "text/html": [
              "<div>\n",
              "<style scoped>\n",
              "    .dataframe tbody tr th:only-of-type {\n",
              "        vertical-align: middle;\n",
              "    }\n",
              "\n",
              "    .dataframe tbody tr th {\n",
              "        vertical-align: top;\n",
              "    }\n",
              "\n",
              "    .dataframe thead th {\n",
              "        text-align: right;\n",
              "    }\n",
              "</style>\n",
              "<table border=\"1\" class=\"dataframe\">\n",
              "  <thead>\n",
              "    <tr style=\"text-align: right;\">\n",
              "      <th></th>\n",
              "      <th>SO2</th>\n",
              "      <th>NO2</th>\n",
              "      <th>O3</th>\n",
              "      <th>PM25</th>\n",
              "      <th>PM10</th>\n",
              "      <th>CO</th>\n",
              "      <th>toplam</th>\n",
              "    </tr>\n",
              "  </thead>\n",
              "  <tbody>\n",
              "    <tr>\n",
              "      <th>0</th>\n",
              "      <td>1.0</td>\n",
              "      <td>1.0</td>\n",
              "      <td>2.0</td>\n",
              "      <td>1.0</td>\n",
              "      <td>1.0</td>\n",
              "      <td>1.0</td>\n",
              "      <td>7.0</td>\n",
              "    </tr>\n",
              "    <tr>\n",
              "      <th>1</th>\n",
              "      <td>2.0</td>\n",
              "      <td>1.0</td>\n",
              "      <td>1.0</td>\n",
              "      <td>2.0</td>\n",
              "      <td>0.0</td>\n",
              "      <td>1.0</td>\n",
              "      <td>7.0</td>\n",
              "    </tr>\n",
              "    <tr>\n",
              "      <th>2</th>\n",
              "      <td>2.0</td>\n",
              "      <td>1.0</td>\n",
              "      <td>1.0</td>\n",
              "      <td>2.0</td>\n",
              "      <td>1.0</td>\n",
              "      <td>1.0</td>\n",
              "      <td>8.0</td>\n",
              "    </tr>\n",
              "    <tr>\n",
              "      <th>3</th>\n",
              "      <td>1.0</td>\n",
              "      <td>1.0</td>\n",
              "      <td>2.0</td>\n",
              "      <td>1.0</td>\n",
              "      <td>1.0</td>\n",
              "      <td>1.0</td>\n",
              "      <td>7.0</td>\n",
              "    </tr>\n",
              "    <tr>\n",
              "      <th>4</th>\n",
              "      <td>1.0</td>\n",
              "      <td>1.0</td>\n",
              "      <td>2.0</td>\n",
              "      <td>1.0</td>\n",
              "      <td>1.0</td>\n",
              "      <td>1.0</td>\n",
              "      <td>7.0</td>\n",
              "    </tr>\n",
              "  </tbody>\n",
              "</table>\n",
              "</div>"
            ],
            "text/plain": [
              "   SO2  NO2   O3  PM25  PM10   CO  toplam\n",
              "0  1.0  1.0  2.0   1.0   1.0  1.0     7.0\n",
              "1  2.0  1.0  1.0   2.0   0.0  1.0     7.0\n",
              "2  2.0  1.0  1.0   2.0   1.0  1.0     8.0\n",
              "3  1.0  1.0  2.0   1.0   1.0  1.0     7.0\n",
              "4  1.0  1.0  2.0   1.0   1.0  1.0     7.0"
            ]
          },
          "metadata": {
            "tags": []
          },
          "execution_count": 76
        }
      ]
    },
    {
      "cell_type": "code",
      "metadata": {
        "id": "YhQKf9qEfAjI",
        "colab_type": "code",
        "colab": {}
      },
      "source": [
        "kalite_olcutu = [\"Çok iyi\", \"Güzel\",\"Orta\",\"Kötü\",\"Çok Kötü\",\"Ölümcül\"]"
      ],
      "execution_count": 0,
      "outputs": []
    },
    {
      "cell_type": "code",
      "metadata": {
        "id": "ce2AVfAPg--k",
        "colab_type": "code",
        "colab": {}
      },
      "source": [
        "# data_beyazid = sonucCikart(data_beyazid)\n",
        "# data_bursa = sonucCikart(data_bursa)\n",
        "# data_inegol = sonucCikart(data_inegol)\n",
        "# data_kestel = sonucCikart(data_kestel)\n",
        "# data_kulturpark = sonucCikart(data_kulturpark)\n",
        "# data_universite = sonucCikart(data_universite)"
      ],
      "execution_count": 0,
      "outputs": []
    },
    {
      "cell_type": "code",
      "metadata": {
        "id": "lPvcx8kxhp5F",
        "colab_type": "code",
        "colab": {}
      },
      "source": [
        "# data_beyazid.to_excel(\"/content/drive/My Drive/GuncelKonular/sonuclar/data_beyazid.xlsx\")\n",
        "# data_bursa.to_excel(\"/content/drive/My Drive/GuncelKonular/sonuclar/data_bursa.xlsx\")\n",
        "# data_inegol.to_excel(\"/content/drive/My Drive/GuncelKonular/sonuclar/data_inegol.xlsx\")\n",
        "# data_kestel.to_excel(\"/content/drive/My Drive/GuncelKonular/sonuclar/data_kestel.xlsx\")\n",
        "# data_kulturpark.to_excel(\"/content/drive/My Drive/GuncelKonular/sonuclar/data_kulturpark.xlsx\")\n",
        "# data_universite.to_excel(\"/content/drive/My Drive/GuncelKonular/sonuclar/data_universite.xlsx\")"
      ],
      "execution_count": 0,
      "outputs": []
    },
    {
      "cell_type": "code",
      "metadata": {
        "id": "gtjDjNGrR7U5",
        "colab_type": "code",
        "colab": {}
      },
      "source": [
        "def kaliteHesabi2(toplam):\n",
        "    hesap= \"\"\n",
        "    if (toplam>=0.0 and toplam<=6.0):\n",
        "         hesap= \"Çok İyi\"\n",
        "    if (toplam>6.0 and toplam<=12.0):\n",
        "         hesap= \"Güzel\"\n",
        "    if (toplam>12.0 and toplam<=18.0):\n",
        "         hesap= \"Orta\"\n",
        "    if (toplam>18.0 and toplam<=24.0):\n",
        "         hesap= \"Kötü\"\n",
        "    if (toplam>24.0 and toplam<=36.0):\n",
        "         hesap= \"Çok Kötü\"\n",
        "    if (toplam>36.0):\n",
        "         hesap= \"Ölümcül\"\n",
        "    \n",
        "    return hesap"
      ],
      "execution_count": 0,
      "outputs": []
    },
    {
      "cell_type": "code",
      "metadata": {
        "id": "4DLg5RSOfeCV",
        "colab_type": "code",
        "colab": {}
      },
      "source": [
        "def kaliteHesabi(toplam):\n",
        "    hesap= -1\n",
        "    if (toplam>=0.0 and toplam<=6.0):\n",
        "         hesap= 0\n",
        "    if (toplam>6.0 and toplam<=12.0):\n",
        "         hesap= 1\n",
        "    if (toplam>12.0 and toplam<=18.0):\n",
        "         hesap= 2\n",
        "    if (toplam>18.0 and toplam<=24.0):\n",
        "         hesap= 3\n",
        "    if (toplam>24.0 and toplam<=36.0):\n",
        "         hesap= 4\n",
        "    if (toplam>36.0):\n",
        "         hesap= 5\n",
        "    \n",
        "    return hesap"
      ],
      "execution_count": 0,
      "outputs": []
    },
    {
      "cell_type": "code",
      "metadata": {
        "id": "C9DonXCwgjTi",
        "colab_type": "code",
        "colab": {}
      },
      "source": [
        "\n"
      ],
      "execution_count": 0,
      "outputs": []
    },
    {
      "cell_type": "code",
      "metadata": {
        "id": "iGEwUPyBg6l1",
        "colab_type": "code",
        "colab": {}
      },
      "source": [
        "def yenidenHesap(toplam):\n",
        "    hesap=0\n",
        "    if toplam ==\"Çok İyi\":\n",
        "         hesap= 0\n",
        "    if toplam == \"Güzel\":\n",
        "         hesap= 1\n",
        "    if toplam == \"Orta\":\n",
        "         hesap= 2\n",
        "    if toplam ==\"Kötü\":\n",
        "         hesap= 3\n",
        "    if toplam == \"Çok Kötü\":\n",
        "         hesap= 4\n",
        "    if toplam == \"Ölümcül\":\n",
        "         hesap= 5\n",
        "    \n",
        "    return hesap"
      ],
      "execution_count": 0,
      "outputs": []
    },
    {
      "cell_type": "code",
      "metadata": {
        "id": "BnGSm28nRvm9",
        "colab_type": "code",
        "colab": {}
      },
      "source": [
        "def sonucBelirle(df):\n",
        "  for _ in df[\"toplam\"]:\n",
        "      df[\"sonuc\"] = df[\"toplam\"].apply(kaliteHesabi)\n",
        "  \n",
        "  return df"
      ],
      "execution_count": 0,
      "outputs": []
    },
    {
      "cell_type": "code",
      "metadata": {
        "id": "8ukPET1AOPe7",
        "colab_type": "code",
        "colab": {}
      },
      "source": [
        "veri_universite = pd.read_excel(\"/content/drive/My Drive/GuncelKonular/sonuclar2/data_universite.xlsx\")\n",
        "veri_bursa = pd.read_excel(\"/content/drive/My Drive/GuncelKonular/sonuclar2/data_bursa.xlsx\")\n",
        "veri_beyazid = pd.read_excel(\"/content/drive/My Drive/GuncelKonular/sonuclar2/data_beyazid.xlsx\")\n",
        "veri_inegol = pd.read_excel(\"/content/drive/My Drive/GuncelKonular/sonuclar2/data_inegol.xlsx\")\n",
        "veri_kestel = pd.read_excel(\"/content/drive/My Drive/GuncelKonular/sonuclar2/data_kestel.xlsx\")\n",
        "veri_kulturpark = pd.read_excel(\"/content/drive/My Drive/GuncelKonular/sonuclar2/data_kulturpark.xlsx\")"
      ],
      "execution_count": 0,
      "outputs": []
    },
    {
      "cell_type": "code",
      "metadata": {
        "id": "vnjSik58SSY7",
        "colab_type": "code",
        "colab": {}
      },
      "source": [
        "# veri_universite = sonucBelirle(veri_universite)\n",
        "# veri_bursa = sonucBelirle(veri_bursa)\n",
        "# veri_beyazid = sonucBelirle(veri_beyazid)\n",
        "# veri_inegol = sonucBelirle(veri_inegol)\n",
        "# veri_kestel = sonucBelirle(veri_kestel)\n",
        "# veri_kulturpark = sonucBelirle(veri_kulturpark)\n"
      ],
      "execution_count": 0,
      "outputs": []
    },
    {
      "cell_type": "code",
      "metadata": {
        "id": "6R139tI5SIKe",
        "colab_type": "code",
        "colab": {}
      },
      "source": [
        "# veri_beyazid.to_excel(\"/content/drive/My Drive/GuncelKonular/sonuclar2/data_beyazid.xlsx\")\n",
        "# veri_bursa.to_excel(\"/content/drive/My Drive/GuncelKonular/sonuclar2/data_bursa.xlsx\")\n",
        "# veri_inegol.to_excel(\"/content/drive/My Drive/GuncelKonular/sonuclar2/data_inegol.xlsx\")\n",
        "# veri_kestel.to_excel(\"/content/drive/My Drive/GuncelKonular/sonuclar2/data_kestel.xlsx\")\n",
        "# veri_kulturpark.to_excel(\"/content/drive/My Drive/GuncelKonular/sonuclar2/data_kulturpark.xlsx\")\n",
        "# veri_universite.to_excel(\"/content/drive/My Drive/GuncelKonular/sonuclar2/data_universite.xlsx\")"
      ],
      "execution_count": 0,
      "outputs": []
    },
    {
      "cell_type": "code",
      "metadata": {
        "id": "WFNyxCXmSg4H",
        "colab_type": "code",
        "colab": {}
      },
      "source": [
        ""
      ],
      "execution_count": 0,
      "outputs": []
    },
    {
      "cell_type": "code",
      "metadata": {
        "id": "HuCrz1M8SjHp",
        "colab_type": "code",
        "colab": {}
      },
      "source": [
        ""
      ],
      "execution_count": 0,
      "outputs": []
    }
  ]
}